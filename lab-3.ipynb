{
 "cells": [
  {
   "cell_type": "code",
   "execution_count": 2,
   "id": "446fe5b8",
   "metadata": {},
   "outputs": [],
   "source": [
    "class simplereflexagent:\n",
    "    def __init__(self,temp):\n",
    "        self.desired_temp=temp\n",
    "        \n",
    "    def percept(self,temp):\n",
    "        self.current_temp=temp\n",
    "    \n",
    "    def act(self):\n",
    "        if self.current_temp > self.desired_temp:\n",
    "            return \"turn off the heater\"\n",
    "        else:\n",
    "            return \"turn on the heater\""
   ]
  },
  {
   "cell_type": "code",
   "execution_count": 3,
   "id": "cefc9a47",
   "metadata": {},
   "outputs": [],
   "source": [
    "obj=simplereflexagent(22)"
   ]
  },
  {
   "cell_type": "code",
   "execution_count": 4,
   "id": "47b01ef1",
   "metadata": {},
   "outputs": [
    {
     "data": {
      "text/plain": [
       "'turn on the heater'"
      ]
     },
     "execution_count": 4,
     "metadata": {},
     "output_type": "execute_result"
    }
   ],
   "source": [
    "obj.percept(16)\n",
    "obj.act()"
   ]
  },
  {
   "cell_type": "code",
   "execution_count": 8,
   "id": "a9df0088",
   "metadata": {},
   "outputs": [],
   "source": [
    "rooms={\n",
    "    \"room1\":28,\n",
    "    \"room2\":15,\n",
    "    \"room3\":40\n",
    "}"
   ]
  },
  {
   "cell_type": "code",
   "execution_count": 14,
   "id": "c2d23404",
   "metadata": {},
   "outputs": [
    {
     "name": "stdout",
     "output_type": "stream",
     "text": [
      "room1:28-----turn off the heater\n",
      "room2:15-----turn on the heater\n",
      "room3:40-----turn off the heater\n"
     ]
    }
   ],
   "source": [
    "for room,temp in rooms.items():\n",
    "    obj.percept(temp)\n",
    "    print(f\"{room}:{temp}-----{obj.act()}\")\n",
    "    "
   ]
  },
  {
   "cell_type": "code",
   "execution_count": 12,
   "id": "f2229a5d",
   "metadata": {},
   "outputs": [
    {
     "name": "stdout",
     "output_type": "stream",
     "text": [
      "heater is on in guest_room -- temp is:14\n",
      "heater is off in kitchen -- temp is:22\n",
      "heater is on in bed_room -- temp is:19\n",
      "heater is on in living_room -- temp is:17\n"
     ]
    }
   ],
   "source": [
    "class model_base_agent:\n",
    "    def __init__(self,name,temp):\n",
    "        self.name=name\n",
    "        self.temp=temp\n",
    "        self.heater_on=False\n",
    "        \n",
    "    def new_temp(self,updated_temp):\n",
    "        self.temp=updated_temp\n",
    "        self.temp_controller()\n",
    "        \n",
    "    def temp_controller(self):\n",
    "        if self.temp < 20:\n",
    "            self.heater_on=True\n",
    "            print(f\"heater is on in {self.name} -- temp is:{self.temp}\")\n",
    "            \n",
    "        elif self.temp > 18:\n",
    "            self.heater_on=False\n",
    "            print(f\"heater is off in {self.name} -- temp is:{self.temp}\")\n",
    "            \n",
    "        else:\n",
    "            print(f\"heater is on automaticmode {self.name}. temp: {self.temp}\")\n",
    "\n",
    "            \n",
    "class temp_controller_system:\n",
    "    def __init__(self):\n",
    "        self.rooms=[]\n",
    "        \n",
    "    def add_room(self, room):\n",
    "        self.rooms.append(room)\n",
    "        \n",
    "    def room_temp(self,name_room,updated_temp):\n",
    "        for room in self.rooms:\n",
    "            if room.name==name_room:\n",
    "                room.new_temp(updated_temp)\n",
    "                break\n",
    "obj=model_base_agent(\"guest_room\",13)                \n",
    "obj1=model_base_agent(\"kitchen\",28)\n",
    "obj2=model_base_agent(\"bed_room\",14)\n",
    "obj3=model_base_agent(\"living_room\",12)\n",
    "\n",
    "sysm=temp_controller_system()\n",
    "sysm.add_room(obj)\n",
    "sysm.add_room(obj1)\n",
    "sysm.add_room(obj2)\n",
    "sysm.add_room(obj3)\n",
    "\n",
    "sysm.room_temp(\"guest_room\",14)\n",
    "sysm.room_temp(\"kitchen\",22)\n",
    "sysm.room_temp(\"bed_room\",19)\n",
    "sysm.room_temp(\"living_room\",17)"
   ]
  },
  {
   "cell_type": "code",
   "execution_count": null,
   "id": "f64b1965",
   "metadata": {},
   "outputs": [],
   "source": []
  },
  {
   "cell_type": "code",
   "execution_count": null,
   "id": "6f8620fd",
   "metadata": {},
   "outputs": [],
   "source": []
  }
 ],
 "metadata": {
  "kernelspec": {
   "display_name": "Python 3 (ipykernel)",
   "language": "python",
   "name": "python3"
  },
  "language_info": {
   "codemirror_mode": {
    "name": "ipython",
    "version": 3
   },
   "file_extension": ".py",
   "mimetype": "text/x-python",
   "name": "python",
   "nbconvert_exporter": "python",
   "pygments_lexer": "ipython3",
   "version": "3.11.5"
  }
 },
 "nbformat": 4,
 "nbformat_minor": 5
}
