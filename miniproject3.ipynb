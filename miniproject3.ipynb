{
 "cells": [
  {
   "cell_type": "code",
   "execution_count": 1,
   "id": "24159b96",
   "metadata": {},
   "outputs": [],
   "source": [
    "import pandas as pd"
   ]
  },
  {
   "cell_type": "code",
   "execution_count": 2,
   "id": "54fabed7",
   "metadata": {},
   "outputs": [],
   "source": [
    "movies = [\n",
    "    (\"Eternal Sunshine of the Spotless Mind\", 20000000),\n",
    "    (\"Memento\", 9000000),\n",
    "    (\"Requiem for a Dream\", 4500000),\n",
    "    (\"Pirates of the Caribbean: On Stranger Tides\", 379000000),\n",
    "    (\"Avengers: Age of Ultron\", 365000000),\n",
    "    (\"Avengers: Endgame\", 356000000),\n",
    "    (\"Incredibles 2\", 200000000)\n",
    "]\n"
   ]
  },
  {
   "cell_type": "code",
   "execution_count": 3,
   "id": "1915f25b",
   "metadata": {},
   "outputs": [
    {
     "name": "stdout",
     "output_type": "stream",
     "text": [
      "Do you want to enter new movies? (Y/N): y\n",
      "enter how many movie do you want to??2\n",
      "enter movie nameharry potter\n",
      "enter movie budget390000000\n",
      "enter movie namelife\n",
      "enter movie budget30000000\n",
      "                                        movies     budget\n",
      "0        Eternal Sunshine of the Spotless Mind   20000000\n",
      "1                                      Memento    9000000\n",
      "2                          Requiem for a Dream    4500000\n",
      "3  Pirates of the Caribbean: On Stranger Tides  379000000\n",
      "4                      Avengers: Age of Ultron  365000000\n",
      "5                            Avengers: Endgame  356000000\n",
      "6                                Incredibles 2  200000000\n",
      "7                                 harry potter  390000000\n",
      "8                                         life   30000000\n"
     ]
    }
   ],
   "source": [
    "new_movie = input(\"Do you want to enter new movies? (Y/N): \").strip().upper()\n",
    "if new_movie==\"Y\":\n",
    "    new_movie=int(input(\"enter how many movie do you want to??\"))\n",
    "    for i in range(new_movie):\n",
    "        name=input(\"enter movie name\")\n",
    "        budget=int(input(\"enter movie budget\"))\n",
    "        new_movie=(name,budget)\n",
    "        movies.append(new_movie)\n",
    "        df=pd.DataFrame(movies,columns=[\"movies\",\"budget\"])\n",
    "print(df)"
   ]
  },
  {
   "cell_type": "code",
   "execution_count": 4,
   "id": "3d9ac95e",
   "metadata": {},
   "outputs": [
    {
     "name": "stdout",
     "output_type": "stream",
     "text": [
      "average:194833333.33333334\n",
      "                                        movies     budget\n",
      "3  Pirates of the Caribbean: On Stranger Tides  379000000\n",
      "4                      Avengers: Age of Ultron  365000000\n",
      "5                            Avengers: Endgame  356000000\n",
      "6                                Incredibles 2  200000000\n",
      "7                                 harry potter  390000000\n",
      "movie:Pirates of the Caribbean: On Stranger Tides,---Movie budget difference-----:184166666.66666666\n",
      "movie:Avengers: Age of Ultron,---Movie budget difference-----:170166666.66666666\n",
      "movie:Avengers: Endgame,---Movie budget difference-----:161166666.66666666\n",
      "movie:Incredibles 2,---Movie budget difference-----:5166666.666666657\n",
      "movie:harry potter,---Movie budget difference-----:195166666.66666666\n"
     ]
    }
   ],
   "source": [
    "df=pd.DataFrame(movies)\n",
    "df=pd.DataFrame(movies,columns=[\"movies\",\"budget\"])\n",
    "movies_average_budget=df['budget'].mean()\n",
    "print(f\"average:{movies_average_budget}\")\n",
    "movies_above_average_budget=df[df['budget']>movies_average_budget]\n",
    "print(movies_above_average_budget)\n",
    "for index, row in movies_above_average_budget.iterrows():\n",
    "    movie=row[\"movies\"]\n",
    "    total_budget_diff = row[\"budget\"] - movies_average_budget\n",
    "    print(f\"movie:{movie},---Movie budget difference-----:{total_budget_diff}\")"
   ]
  },
  {
   "cell_type": "code",
   "execution_count": null,
   "id": "add553cb",
   "metadata": {},
   "outputs": [],
   "source": []
  }
 ],
 "metadata": {
  "kernelspec": {
   "display_name": "Python 3 (ipykernel)",
   "language": "python",
   "name": "python3"
  },
  "language_info": {
   "codemirror_mode": {
    "name": "ipython",
    "version": 3
   },
   "file_extension": ".py",
   "mimetype": "text/x-python",
   "name": "python",
   "nbconvert_exporter": "python",
   "pygments_lexer": "ipython3",
   "version": "3.11.5"
  }
 },
 "nbformat": 4,
 "nbformat_minor": 5
}
