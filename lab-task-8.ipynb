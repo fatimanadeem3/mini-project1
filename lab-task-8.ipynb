{
 "cells": [
  {
   "cell_type": "code",
   "execution_count": 2,
   "metadata": {},
   "outputs": [
    {
     "name": "stdout",
     "output_type": "stream",
     "text": [
      "optimal solution:  6\n"
     ]
    }
   ],
   "source": [
    "def min_max_algorithm(length,node,is_max,value,h):\n",
    "    if length==h:\n",
    "        return value[node]\n",
    "    \n",
    "    if is_max:\n",
    "        return max(min_max_algorithm(length+1,node*2,False,value,h),min_max_algorithm(length+1,node*2+1,False,value,h))\n",
    "    else:\n",
    "        return min(min_max_algorithm(length+1,node*2,True,value,h),min_max_algorithm(length+1,node*2+1,True,value,h))\n",
    "    \n",
    "value=[5,6,7,8,9,3,2,0]\n",
    "h=3\n",
    "result=min_max_algorithm(0,0,True,value,h)\n",
    "print(\"optimal solution: \",result)\n",
    "    "
   ]
  }
 ],
 "metadata": {
  "kernelspec": {
   "display_name": "Python 3",
   "language": "python",
   "name": "python3"
  },
  "language_info": {
   "codemirror_mode": {
    "name": "ipython",
    "version": 3
   },
   "file_extension": ".py",
   "mimetype": "text/x-python",
   "name": "python",
   "nbconvert_exporter": "python",
   "pygments_lexer": "ipython3",
   "version": "3.12.0"
  }
 },
 "nbformat": 4,
 "nbformat_minor": 2
}
