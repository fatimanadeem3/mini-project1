{
 "cells": [
  {
   "cell_type": "code",
   "execution_count": 6,
   "metadata": {},
   "outputs": [
    {
     "name": "stdout",
     "output_type": "stream",
     "text": [
      "optimal solution:  ['A', 'B', 'F', 'G']\n",
      "distance:  14\n"
     ]
    }
   ],
   "source": [
    "g={\n",
    "    'A':{'E':2,'D':5,'B':4},\n",
    "    'B':{'F':9},\n",
    "    'D':{'H':2,'C':9},\n",
    "    'E':{'H':2},\n",
    "    'F':{'G':1,'I':1},\n",
    "    'H':{},\n",
    "    'C':{},\n",
    "    'G':{'C':2,'B':0},\n",
    "    'I':{}\n",
    "    \n",
    "}\n",
    "\n",
    "values_nodes={\n",
    "    'A':2,\n",
    "    'B':5,\n",
    "    'D':0,\n",
    "    'E':5,\n",
    "    'F':1,\n",
    "    'H':3,\n",
    "    'C':7,\n",
    "    'G':0,\n",
    "    'I':2\n",
    "\n",
    "}\n",
    "\n",
    "def A_star_algorithm(g,start,goal):\n",
    "    set={start}\n",
    "    c_m={}\n",
    "    g_n={node: float(\"inf\") for node in g}\n",
    "    g_n[start]=0\n",
    "    f_n={node: float(\"inf\") for node in g}\n",
    "    f_n[start]=values_nodes[start]\n",
    "\n",
    "    while set:\n",
    "        p=min(set,key=lambda node:f_n[node])\n",
    "\n",
    "        if p==goal:\n",
    "            edges=[]\n",
    "            while p in c_m:\n",
    "                edges.append(p)\n",
    "                p=c_m[p]\n",
    "            edges.append(start)\n",
    "            edges.reverse()\n",
    "            return edges,g_n[goal]\n",
    "        set.remove(p)\n",
    "        \n",
    "        for i , c in g[p].items():\n",
    "            v_g_n=g_n[p]+c\n",
    "\n",
    "            if v_g_n<g_n[i]:\n",
    "                c_m[i]=p\n",
    "                g_n[i]=v_g_n\n",
    "                f_n[i]=g_n[i]+values_nodes[i]\n",
    "                if i not in set:\n",
    "                    set.add(i)\n",
    "\n",
    "    return None,float('inf')\n",
    "\n",
    "start=\"A\"\n",
    "goal=\"G\"\n",
    "edges,distance=A_star_algorithm(g,start,goal)\n",
    "print(\"optimal solution: \",edges)\n",
    "print(\"distance: \",distance)\n",
    "\n",
    "\n",
    "\n",
    "\n",
    "\n",
    "    "
   ]
  }
 ],
 "metadata": {
  "kernelspec": {
   "display_name": "Python 3",
   "language": "python",
   "name": "python3"
  },
  "language_info": {
   "codemirror_mode": {
    "name": "ipython",
    "version": 3
   },
   "file_extension": ".py",
   "mimetype": "text/x-python",
   "name": "python",
   "nbconvert_exporter": "python",
   "pygments_lexer": "ipython3",
   "version": "3.12.0"
  }
 },
 "nbformat": 4,
 "nbformat_minor": 2
}
