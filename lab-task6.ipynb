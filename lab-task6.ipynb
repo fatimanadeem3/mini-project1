{
 "cells": [
  {
   "cell_type": "code",
   "execution_count": 1,
   "metadata": {},
   "outputs": [
    {
     "name": "stdout",
     "output_type": "stream",
     "text": [
      "nodes: A\n",
      "visited nodes:  {'A'}\n",
      "queue:  ['E']\n",
      "queue:  ['E', 'D']\n",
      "queue:  ['E', 'D', 'B']\n",
      "nodes: E\n",
      "visited nodes:  {'E', 'A'}\n",
      "queue:  ['D', 'B', 'H']\n",
      "nodes: D\n",
      "visited nodes:  {'E', 'A', 'D'}\n",
      "queue:  ['B', 'H', 'H']\n",
      "queue:  ['B', 'H', 'H', 'C']\n",
      "nodes: B\n",
      "visited nodes:  {'E', 'A', 'B', 'D'}\n",
      "queue:  ['H', 'H', 'C', 'F']\n",
      "nodes: H\n",
      "node found:  H\n"
     ]
    }
   ],
   "source": [
    "g={\n",
    "    'A':['E','D','B'],\n",
    "    'B':['F'],\n",
    "    'D':['H','C'],\n",
    "    'E':['H'],\n",
    "    'F':['G','I'],\n",
    "    'H':[],\n",
    "    'C':['B'],\n",
    "    'G':['C','B'],\n",
    "    'I':['H']\n",
    "    \n",
    "}\n",
    "#with nodes and queue.\n",
    "def bfs(start,goal):\n",
    "    visited=set()\n",
    "    queue=[start]\n",
    "    \n",
    "    while queue:\n",
    "        node=queue.pop(0)\n",
    "        print(\"nodes:\",node)\n",
    "        \n",
    "        if node==goal:\n",
    "            print(\"node found: \",node)\n",
    "            break\n",
    "            \n",
    "        if node not in visited:\n",
    "            visited.add(node)\n",
    "            print(\"visited nodes: \",visited)\n",
    "            \n",
    "        \n",
    "        for i in g[node]:\n",
    "            if i not in visited:\n",
    "                queue.append(i)\n",
    "                print(\"queue: \",queue)\n",
    "                \n",
    "        \n",
    "bfs('A','H')\n",
    "    "
   ]
  },
  {
   "cell_type": "code",
   "execution_count": 2,
   "metadata": {},
   "outputs": [
    {
     "name": "stdout",
     "output_type": "stream",
     "text": [
      "Node A\n",
      "Node E\n",
      "Node D\n",
      "Node B\n",
      "Node H\n",
      "Node C\n",
      "Node F\n",
      "Node G\n",
      "Node I\n"
     ]
    }
   ],
   "source": [
    "g={\n",
    "    'A':['E','D','B'],\n",
    "    'B':['F'],\n",
    "    'D':['H','C'],\n",
    "    'E':['H'],\n",
    "    'F':['G','I'],\n",
    "    'H':[],\n",
    "    'C':['B'],\n",
    "    'G':['C','B'],\n",
    "    'I':['H']\n",
    "    \n",
    "}\n",
    "#without queue.\n",
    "def bfs(g,start):\n",
    "    visited=set()\n",
    "    list1=[start]\n",
    "\n",
    "    while list1:\n",
    "        node=list1.pop(0)\n",
    "        if node not in visited:\n",
    "            print(\"Node\",node)\n",
    "            visited.add(node)\n",
    "            for n in g[node]:\n",
    "                if n not in visited and n not in list1:\n",
    "                    list1.append(n)\n",
    "                \n",
    "        \n",
    "bfs(g,'A')\n"
   ]
  }
 ],
 "metadata": {
  "kernelspec": {
   "display_name": "Python 3",
   "language": "python",
   "name": "python3"
  },
  "language_info": {
   "codemirror_mode": {
    "name": "ipython",
    "version": 3
   },
   "file_extension": ".py",
   "mimetype": "text/x-python",
   "name": "python",
   "nbconvert_exporter": "python",
   "pygments_lexer": "ipython3",
   "version": "3.12.0"
  }
 },
 "nbformat": 4,
 "nbformat_minor": 2
}
