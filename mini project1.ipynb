{
 "cells": [
  {
   "cell_type": "code",
   "execution_count": 1,
   "id": "a92aa83e",
   "metadata": {},
   "outputs": [],
   "source": [
    "#Dynamic calculator"
   ]
  },
  {
   "cell_type": "code",
   "execution_count": null,
   "id": "66a363ea",
   "metadata": {},
   "outputs": [
    {
     "name": "stdout",
     "output_type": "stream",
     "text": [
      "----------------------------------solve you expression with my dynamic calculator---------------------------------- \n",
      "\n",
      "you can you following operation -,+,/,//,*\n",
      "enter your equation please\n",
      "enter exit to leave\n"
     ]
    }
   ],
   "source": [
    "#simple Dynamic calculator\n",
    "loging_line:str=\"solve you expression with my dynamic calculator\"\n",
    "print(f\"{loging_line:-^115} \\n\")\n",
    "def calculator1():\n",
    "    print(\"you can you following operation -,+,/,//,*\")\n",
    "    print(\"enter your equation please\")\n",
    "    print(\"enter exit to leave\")\n",
    "    while True:\n",
    "        your_question1=input(\"enter your equation here: \")\n",
    "        if your_question1.lower() == \"exit\":\n",
    "            print(\"thank you!\")\n",
    "            break\n",
    "        try:\n",
    "            result=eval(your_question1)\n",
    "            print(f\"result:{result}\\n\")\n",
    "        except Expection as e:\n",
    "            print(\"invalid synatx\")\n",
    "calculator1()\n",
    "    \n",
    "\n"
   ]
  },
  {
   "cell_type": "code",
   "execution_count": null,
   "id": "57672a84",
   "metadata": {},
   "outputs": [],
   "source": [
    "loging_line:str=\"solve you expression with my dynamic calculator\"\n",
    "print(f\"{loging_line:-^115} \\n\")\n",
    "def calculator(question):\n",
    "    list1 = []\n",
    "    num = \"\"\n",
    "    for char in question:\n",
    "        if char.isdigit() or char==\".\":\n",
    "            num+=char\n",
    "        else:\n",
    "            if num:\n",
    "                list1.append(float(num))\n",
    "                num=\"\"\n",
    "            if char in \"+-*/\":\n",
    "                list1.append(char)\n",
    "    if num:\n",
    "        list1.append(float(num))\n",
    "    result=list1[0]\n",
    "    print(f\"starting_steps:{result}\")\n",
    "    for i in range(1,len(list1),2):\n",
    "        operator=list1[i]\n",
    "        after_value=list1[i+1]\n",
    "        print(f\"mid_steps:{result} {operator} {after_value}\")\n",
    "        if operator == '+':\n",
    "            result += after_value\n",
    "        elif operator == '-':\n",
    "            result -= after_value\n",
    "        elif operator == '*':\n",
    "            result *= after_value\n",
    "        elif operator == '/':\n",
    "            if after_value == 0:\n",
    "                print(\"not possible to divide any num by 0\")\n",
    "                return None\n",
    "            result /= after_value    \n",
    "    print(f\"final_steps:{result}\")\n",
    "    return result \n",
    "def calculator1():\n",
    "    print(\"you can you following operation -,+,/,*\")\n",
    "    print(\"enter your equation please\")\n",
    "    print(\"enter exit to leave\")\n",
    "    while True:\n",
    "        your_equation=input(\"enter your equation here: \")\n",
    "        if your_equation.lower() == \"exit\":\n",
    "            print(\"thank you!\")\n",
    "            break\n",
    "        try:\n",
    "            result  = calculator(your_equation)\n",
    "            print(f\"result:{result}\\n\")\n",
    "        except Exception as e:\n",
    "            print(\"invalid synatx\")\n",
    "calculator1()"
   ]
  },
  {
   "cell_type": "code",
   "execution_count": null,
   "id": "95addc31",
   "metadata": {},
   "outputs": [],
   "source": []
  }
 ],
 "metadata": {
  "kernelspec": {
   "display_name": "Python 3 (ipykernel)",
   "language": "python",
   "name": "python3"
  },
  "language_info": {
   "codemirror_mode": {
    "name": "ipython",
    "version": 3
   },
   "file_extension": ".py",
   "mimetype": "text/x-python",
   "name": "python",
   "nbconvert_exporter": "python",
   "pygments_lexer": "ipython3",
   "version": "3.11.5"
  }
 },
 "nbformat": 4,
 "nbformat_minor": 5
}
