{
 "cells": [
  {
   "cell_type": "markdown",
   "id": "d11e6779",
   "metadata": {},
   "source": [
    "# task--4.1\n"
   ]
  },
  {
   "cell_type": "code",
   "execution_count": 7,
   "id": "22dff3ae",
   "metadata": {},
   "outputs": [
    {
     "name": "stdout",
     "output_type": "stream",
     "text": [
      "card_no:  [4, 7, 8, 2, 7, 8, 0, 0, 0, 1, 6, 1, 6, 4, 0, 1]\n",
      "card_no1:  [4, 7, 8, 2, 7, 8, 0, 0, 0, 1, 6, 1, 6, 4, 0, 'x']\n",
      "card_no1:  [4, 7, 8, 2, 7, 8, 0, 0, 0, 1, 6, 1, 6, 4, 0]\n",
      "card_no2:  [0, 4, 6, 1, 6, 1, 0, 0, 0, 8, 7, 2, 8, 7, 4]\n",
      "card_no2:  [0, 4, 12, 1, 12, 1, 0, 0, 0, 8, 14, 2, 16, 7, 8]\n",
      "card_no2:  [0, 4, 3, 1, 3, 1, 0, 0, 0, 8, 5, 2, 7, 7, 8]\n",
      "card_no3:  [0, 4, 3, 1, 3, 1, 0, 0, 0, 8, 5, 2, 7, 7, 8, 1]\n",
      "total_sum_of_no:  50\n",
      "card is valid\n"
     ]
    }
   ],
   "source": [
    "# LUHN Algorithm\n",
    "card_no=[4,7,8,2,7,8,0,0,0,1,6,1,6,4,0,1]#number of card list1\n",
    "print(\"card_no: \",card_no)\n",
    "card_no1=card_no#simple code to pop the last value or to replace with x\n",
    "card_no1[15]=\"x\"\n",
    "print(\"card_no1: \",card_no1)\n",
    "card_no1.pop(15)\n",
    "print(\"card_no1: \",card_no1)\n",
    "card_no1.reverse()\n",
    "card_no2=card_no1\n",
    "print(\"card_no2: \",card_no2)\n",
    "for i in range(0, len(card_no2), 2): #to double the even index value \n",
    "    card_no2[i] *= 2 \n",
    "print(\"card_no2: \",card_no2)#-9 if the num is greater then 9\n",
    "for i in range(len(card_no2)):  \n",
    "    if card_no2[i] > 9:   \n",
    "        card_no2[i] -= 9\n",
    "print(\"card_no2: \",card_no2)\n",
    "card_no3=card_no2\n",
    "card_no3.append(1)\n",
    "print(\"card_no3: \",card_no3)\n",
    "total_sum=sum(card_no3)#sum of all numbers\n",
    "print(\"total_sum_of_no: \",total_sum)\n",
    "if total_sum%10==0:\n",
    "    print(\"card is valid\")\n",
    "else:\n",
    "    print(\"card is invalide\")"
   ]
  },
  {
   "cell_type": "markdown",
   "id": "84768b82",
   "metadata": {},
   "source": [
    "# task--4.2\n"
   ]
  },
  {
   "cell_type": "code",
   "execution_count": 1,
   "id": "506c0603",
   "metadata": {},
   "outputs": [
    {
     "name": "stdout",
     "output_type": "stream",
     "text": [
      "here is your input string:  #55564@8877&7$\n",
      "here is your string without punctuations marks:  5556488777\n"
     ]
    }
   ],
   "source": [
    "#Remove Punctuations \n",
    "string_input=input(\"please enter string with punctuation mark: \")\n",
    "simple_string=\"\".join([char for char in string_input if char.isalnum() or char==\"\"])\n",
    "print(\"here is your input string: \",string_input)\n",
    "print(\"here is your string without punctuations marks: \",simple_string)"
   ]
  },
  {
   "cell_type": "markdown",
   "id": "e0d5451b",
   "metadata": {},
   "source": [
    "# task--4.3"
   ]
  },
  {
   "cell_type": "code",
   "execution_count": 3,
   "id": "bb214f6d",
   "metadata": {},
   "outputs": [
    {
     "name": "stdout",
     "output_type": "stream",
     "text": [
      "updated list ['Fatima', 'Khan', 'Nadeem', 'Niazi', 'a', 'b', 'c', 'hi', 't', 'z']\n"
     ]
    }
   ],
   "source": [
    "list1=[\"Fatima\",\"t\",\"a\",\"b\",\"Nadeem\",\"hi\",\"Khan\",\"z\",\"c\",\"Niazi\"]\n",
    "for i in range(1,len(list1)):\n",
    "    c_v=list1[i]\n",
    "    p=i\n",
    "    while c_v<list1[p-1] and p>0:\n",
    "        list1[p]=list1[p-1]\n",
    "        p=p-1\n",
    "        list1[p]=c_v\n",
    "print(\"updated list\",list1)"
   ]
  }
 ],
 "metadata": {
  "kernelspec": {
   "display_name": "Python 3 (ipykernel)",
   "language": "python",
   "name": "python3"
  },
  "language_info": {
   "codemirror_mode": {
    "name": "ipython",
    "version": 3
   },
   "file_extension": ".py",
   "mimetype": "text/x-python",
   "name": "python",
   "nbconvert_exporter": "python",
   "pygments_lexer": "ipython3",
   "version": "3.12.0"
  }
 },
 "nbformat": 4,
 "nbformat_minor": 5
}
