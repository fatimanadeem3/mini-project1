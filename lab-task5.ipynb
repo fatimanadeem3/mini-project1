{
 "cells": [
  {
   "cell_type": "code",
   "execution_count": 1,
   "metadata": {},
   "outputs": [
    {
     "name": "stdout",
     "output_type": "stream",
     "text": [
      "visited nodes:  {'A'}\n",
      "stack nodes:  ['A']\n",
      "removed node : A\n",
      "E\n",
      "D\n",
      "B\n",
      "visited nodes:  {'B'}\n",
      "stack nodes:  ['B']\n",
      "removed node : B\n",
      "F\n",
      "visited nodes:  {'F'}\n",
      "stack nodes:  ['F']\n",
      "removed node : F\n",
      "G\n",
      "I\n",
      "visited nodes:  {'I'}\n",
      "stack nodes:  ['I']\n",
      "removed node : I\n",
      "H\n"
     ]
    }
   ],
   "source": [
    "g={\n",
    "    'A':['E','D','B'],\n",
    "    'B':['F'],\n",
    "    'D':['H','C'],\n",
    "    'E':['H'],\n",
    "    'F':['G','I'],\n",
    "    'H':[],\n",
    "    'C':['B'],\n",
    "    'G':['C','B'],\n",
    "    'I':['H']\n",
    "    \n",
    "}\n",
    "\n",
    "def dfs(start,goal):\n",
    "    visited=set()# we can use any type list or set etc,to stored nodes\n",
    "    stack=[]\n",
    "    \n",
    "    visited.add(start)\n",
    "    print(\"visited nodes: \",visited)\n",
    "    \n",
    "    stack.append(start)\n",
    "    print(\"stack nodes: \",stack)\n",
    "    \n",
    "    while stack:\n",
    "        node=stack.pop()#index value is not specify \n",
    "        print(\"removed node :\",node)\n",
    "        \n",
    "        for i in g[start]:\n",
    "            print(i)\n",
    "        if i == goal:\n",
    "            return\n",
    "        dfs(i,goal)\n",
    "dfs('A','H')"
   ]
  },
  {
   "cell_type": "code",
   "execution_count": 2,
   "metadata": {},
   "outputs": [
    {
     "name": "stdout",
     "output_type": "stream",
     "text": [
      "pre_order\n",
      "A C E B D \n",
      "in_order\n",
      "E C A B D \n",
      "post_order\n",
      "E C D B A "
     ]
    }
   ],
   "source": [
    "class dfs:  #pre order=PO,inorder=IO,postorder=POO\n",
    "    def __init__(self,data):\n",
    "        self.data=data\n",
    "        self.right=None\n",
    "        self.left=None\n",
    "\n",
    "    def pre_order(self,node):\n",
    "        if node:\n",
    "            print(node.data,end=\" \")\n",
    "            self.pre_order(node.right)\n",
    "            self.pre_order(node.left)\n",
    "\n",
    "    def in_order(self,node):\n",
    "        if node:\n",
    "            self.in_order(node.right)\n",
    "            print(node.data,end=\" \")\n",
    "            self.in_order(node.left)\n",
    "\n",
    "    def post_order(self,node):\n",
    "       if node:\n",
    "            self.post_order(node.right)\n",
    "            self.post_order(node.left)\n",
    "            print(node.data,end=\" \")\n",
    "obj=dfs(\"A\")\n",
    "obj.left=dfs(\"B\")\n",
    "obj.right=dfs(\"C\")\n",
    "obj.left.left=dfs(\"D\")\n",
    "obj.right.right=dfs(\"E\")\n",
    "\n",
    "print(\"pre_order\")\n",
    "obj.pre_order(obj)\n",
    "print(\"\\nin_order\")\n",
    "obj.in_order(obj)\n",
    "print(\"\\npost_order\")\n",
    "obj.post_order(obj)\n",
    "\n"
   ]
  }
 ],
 "metadata": {
  "kernelspec": {
   "display_name": "Python 3",
   "language": "python",
   "name": "python3"
  },
  "language_info": {
   "codemirror_mode": {
    "name": "ipython",
    "version": 3
   },
   "file_extension": ".py",
   "mimetype": "text/x-python",
   "name": "python",
   "nbconvert_exporter": "python",
   "pygments_lexer": "ipython3",
   "version": "3.12.0"
  }
 },
 "nbformat": 4,
 "nbformat_minor": 2
}
